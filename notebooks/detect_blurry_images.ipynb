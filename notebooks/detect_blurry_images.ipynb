{
 "cells": [
  {
   "cell_type": "code",
   "execution_count": 24,
   "metadata": {},
   "outputs": [],
   "source": [
    "from pathlib import Path\n",
    "import shutil\n",
    "\n",
    "from tqdm import tqdm\n",
    "import cv2\n",
    "import matplotlib.pyplot as plt\n",
    "import numpy as np"
   ]
  },
  {
   "cell_type": "code",
   "execution_count": 2,
   "metadata": {},
   "outputs": [],
   "source": [
    "# It is a good idea to experiment with these values\n",
    "THRESHOLD = 75"
   ]
  },
  {
   "cell_type": "code",
   "execution_count": 3,
   "metadata": {},
   "outputs": [
    {
     "data": {
      "text/plain": [
       "206"
      ]
     },
     "execution_count": 3,
     "metadata": {},
     "output_type": "execute_result"
    }
   ],
   "source": [
    "# Get the images\n",
    "PATH = Path(\"../../data/llff/deer_v6_debug_script_picked_blurry_v2\")\n",
    "image_filenames = list((PATH / \"images\").rglob(\"**/*.JPG\"))\n",
    "len(image_filenames)"
   ]
  },
  {
   "cell_type": "code",
   "execution_count": 41,
   "metadata": {},
   "outputs": [],
   "source": [
    "def variance_of_laplacian(image, quiet=True):\n",
    "\t# compute the Laplacian of the image and then return the focus\n",
    "\t# measure, which is simply the variance of the Laplacian\n",
    "\tlaplacian_img = cv2.Laplacian(image, cv2.CV_64F) # has same shape as the original image\n",
    "\n",
    "\tif not quiet:\n",
    "\t\t_, axes = plt.subplots(1, 2, figsize=(8, 16))\n",
    "\t\taxes = axes.flatten()\n",
    "\t\tfor img, ax in zip([image, laplacian_img*255], axes):\n",
    "\t\t\tax.imshow(img, cmap=\"gray\", vmin=0, vmax=255)\n",
    "\t\tplt.show()\n",
    "\n",
    "\treturn laplacian_img.var()"
   ]
  },
  {
   "cell_type": "code",
   "execution_count": 43,
   "metadata": {},
   "outputs": [
    {
     "name": "stderr",
     "output_type": "stream",
     "text": []
    }
   ],
   "source": [
    "blurry_image_filenames = []\n",
    "focus_measures = []\n",
    "\n",
    "# loop over the input images\n",
    "for i, img_fn in enumerate(tqdm(image_filenames, total=len(image_filenames), leave=False)):\n",
    "    # load the image, convert it to grayscale, and compute the\n",
    "    # focus measure of the image using the Variance of Laplacian method\n",
    "    image = cv2.imread(str(img_fn))\n",
    "    grayscale_image = cv2.cvtColor(image, cv2.COLOR_BGR2GRAY)\n",
    "    focus_measure = variance_of_laplacian(grayscale_image)\n",
    "\n",
    "    focus_measures.append(focus_measure)\n",
    "\n",
    "    # Check if blurry\n",
    "    if focus_measure < THRESHOLD:\n",
    "        blurry_image_filenames.append(img_fn)"
   ]
  },
  {
   "cell_type": "code",
   "execution_count": 44,
   "metadata": {},
   "outputs": [
    {
     "data": {
      "text/plain": [
       "(24, 0.11650485436893204)"
      ]
     },
     "execution_count": 44,
     "metadata": {},
     "output_type": "execute_result"
    }
   ],
   "source": [
    "len(blurry_image_filenames), len(blurry_image_filenames) / len(image_filenames)"
   ]
  },
  {
   "cell_type": "code",
   "execution_count": 49,
   "metadata": {},
   "outputs": [
    {
     "data": {
      "text/plain": [
       "(array([ 3.,  3.,  7.,  6.,  8., 13., 10.,  8.,  5.,  8.,  6.,  9.,  8.,\n",
       "         4.,  4.,  5.,  9.,  6.,  5.,  3.,  2.,  7.,  4.,  2.,  3.,  2.,\n",
       "         4.,  5.,  2.,  4.,  5.,  3.,  4.,  3.,  2.,  1.,  2.,  1.,  3.,\n",
       "         1.,  2.,  3.,  2.,  5.,  1.,  1.,  0.,  1.,  0.,  1.]),\n",
       " array([ 16.94058875,  23.69041349,  30.44023824,  37.19006298,\n",
       "         43.93988773,  50.68971247,  57.43953722,  64.18936196,\n",
       "         70.93918671,  77.68901145,  84.4388362 ,  91.18866094,\n",
       "         97.93848568, 104.68831043, 111.43813517, 118.18795992,\n",
       "        124.93778466, 131.68760941, 138.43743415, 145.1872589 ,\n",
       "        151.93708364, 158.68690839, 165.43673313, 172.18655788,\n",
       "        178.93638262, 185.68620737, 192.43603211, 199.18585686,\n",
       "        205.9356816 , 212.68550635, 219.43533109, 226.18515584,\n",
       "        232.93498058, 239.68480533, 246.43463007, 253.18445482,\n",
       "        259.93427956, 266.68410431, 273.43392905, 280.1837538 ,\n",
       "        286.93357854, 293.68340329, 300.43322803, 307.18305278,\n",
       "        313.93287752, 320.68270227, 327.43252701, 334.18235176,\n",
       "        340.9321765 , 347.68200124, 354.43182599]),\n",
       " <BarContainer object of 50 artists>)"
      ]
     },
     "execution_count": 49,
     "metadata": {},
     "output_type": "execute_result"
    },
    {
     "data": {
      "image/png": "[encoded data removed]",
      "text/plain": [
       "<Figure size 432x288 with 1 Axes>"
      ]
     },
     "metadata": {
      "needs_background": "light"
     },
     "output_type": "display_data"
    }
   ],
   "source": [
    "plt.hist(focus_measures, bins=50)"
   ]
  },
  {
   "cell_type": "code",
   "execution_count": 25,
   "metadata": {},
   "outputs": [],
   "source": [
    "# Uncomment below when you are ready to remove the images\n",
    "# for img_fn in blurry_image_filenames:\n",
    "#     shutil.move(img_fn, str(PATH / \"bad_images\" / \"blurry\" / img_fn.name))"
   ]
  },
  {
   "cell_type": "code",
   "execution_count": null,
   "metadata": {},
   "outputs": [],
   "source": []
  }
 ],
 "metadata": {
  "interpreter": {
   "hash": "6e79e6f44a054bb329d91965122957da60628be052773fa250940d0208d63cbd"
  },
  "kernelspec": {
   "display_name": "Python 3.6.13 64-bit ('nerf_pl': conda)",
   "language": "python",
   "name": "python3"
  },
  "language_info": {
   "codemirror_mode": {
    "name": "ipython",
    "version": 3
   },
   "file_extension": ".py",
   "mimetype": "text/x-python",
   "name": "python",
   "nbconvert_exporter": "python",
   "pygments_lexer": "ipython3",
   "version": "3.6.13"
  },
  "orig_nbformat": 4
 },
 "nbformat": 4,
 "nbformat_minor": 2
}
