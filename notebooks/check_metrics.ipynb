{
 "cells": [
  {
   "cell_type": "code",
   "execution_count": 1,
   "metadata": {},
   "outputs": [],
   "source": [
    "import pandas as pd\n",
    "import matplotlib.pyplot as plt"
   ]
  },
  {
   "cell_type": "code",
   "execution_count": 3,
   "metadata": {},
   "outputs": [
    {
     "data": {
      "text/html": [
       "<div>\n",
       "<style scoped>\n",
       "    .dataframe tbody tr th:only-of-type {\n",
       "        vertical-align: middle;\n",
       "    }\n",
       "\n",
       "    .dataframe tbody tr th {\n",
       "        vertical-align: top;\n",
       "    }\n",
       "\n",
       "    .dataframe thead th {\n",
       "        text-align: right;\n",
       "    }\n",
       "</style>\n",
       "<table border=\"1\" class=\"dataframe\">\n",
       "  <thead>\n",
       "    <tr style=\"text-align: right;\">\n",
       "      <th></th>\n",
       "      <th>lr</th>\n",
       "      <th>train/loss</th>\n",
       "      <th>train/psnr</th>\n",
       "      <th>epoch</th>\n",
       "      <th>created_at</th>\n",
       "      <th>val/loss</th>\n",
       "      <th>val/psnr</th>\n",
       "    </tr>\n",
       "  </thead>\n",
       "  <tbody>\n",
       "    <tr>\n",
       "      <th>0</th>\n",
       "      <td>0.000500</td>\n",
       "      <td>0.030904</td>\n",
       "      <td>17.914391</td>\n",
       "      <td>0</td>\n",
       "      <td>2021-11-29 10:47:49.649936</td>\n",
       "      <td>NaN</td>\n",
       "      <td>NaN</td>\n",
       "    </tr>\n",
       "    <tr>\n",
       "      <th>1</th>\n",
       "      <td>0.000500</td>\n",
       "      <td>0.027842</td>\n",
       "      <td>18.483892</td>\n",
       "      <td>0</td>\n",
       "      <td>2021-11-29 10:47:51.646310</td>\n",
       "      <td>NaN</td>\n",
       "      <td>NaN</td>\n",
       "    </tr>\n",
       "    <tr>\n",
       "      <th>2</th>\n",
       "      <td>0.000500</td>\n",
       "      <td>0.026325</td>\n",
       "      <td>18.713966</td>\n",
       "      <td>0</td>\n",
       "      <td>2021-11-29 10:47:53.536505</td>\n",
       "      <td>NaN</td>\n",
       "      <td>NaN</td>\n",
       "    </tr>\n",
       "    <tr>\n",
       "      <th>3</th>\n",
       "      <td>0.000500</td>\n",
       "      <td>0.023690</td>\n",
       "      <td>18.930473</td>\n",
       "      <td>0</td>\n",
       "      <td>2021-11-29 10:47:55.425248</td>\n",
       "      <td>NaN</td>\n",
       "      <td>NaN</td>\n",
       "    </tr>\n",
       "    <tr>\n",
       "      <th>4</th>\n",
       "      <td>0.000500</td>\n",
       "      <td>0.022867</td>\n",
       "      <td>19.377693</td>\n",
       "      <td>0</td>\n",
       "      <td>2021-11-29 10:47:57.314520</td>\n",
       "      <td>NaN</td>\n",
       "      <td>NaN</td>\n",
       "    </tr>\n",
       "    <tr>\n",
       "      <th>...</th>\n",
       "      <td>...</td>\n",
       "      <td>...</td>\n",
       "      <td>...</td>\n",
       "      <td>...</td>\n",
       "      <td>...</td>\n",
       "      <td>...</td>\n",
       "      <td>...</td>\n",
       "    </tr>\n",
       "    <tr>\n",
       "      <th>31585</th>\n",
       "      <td>0.000125</td>\n",
       "      <td>0.003708</td>\n",
       "      <td>27.671307</td>\n",
       "      <td>29</td>\n",
       "      <td>2021-11-30 04:10:33.935775</td>\n",
       "      <td>NaN</td>\n",
       "      <td>NaN</td>\n",
       "    </tr>\n",
       "    <tr>\n",
       "      <th>31586</th>\n",
       "      <td>0.000125</td>\n",
       "      <td>0.004354</td>\n",
       "      <td>26.824734</td>\n",
       "      <td>29</td>\n",
       "      <td>2021-11-30 04:10:35.975449</td>\n",
       "      <td>NaN</td>\n",
       "      <td>NaN</td>\n",
       "    </tr>\n",
       "    <tr>\n",
       "      <th>31587</th>\n",
       "      <td>0.000125</td>\n",
       "      <td>0.004143</td>\n",
       "      <td>27.248798</td>\n",
       "      <td>29</td>\n",
       "      <td>2021-11-30 04:10:38.163785</td>\n",
       "      <td>NaN</td>\n",
       "      <td>NaN</td>\n",
       "    </tr>\n",
       "    <tr>\n",
       "      <th>31588</th>\n",
       "      <td>0.000125</td>\n",
       "      <td>0.004159</td>\n",
       "      <td>27.058308</td>\n",
       "      <td>29</td>\n",
       "      <td>2021-11-30 04:10:40.318428</td>\n",
       "      <td>NaN</td>\n",
       "      <td>NaN</td>\n",
       "    </tr>\n",
       "    <tr>\n",
       "      <th>31589</th>\n",
       "      <td>NaN</td>\n",
       "      <td>NaN</td>\n",
       "      <td>NaN</td>\n",
       "      <td>29</td>\n",
       "      <td>2021-11-30 04:10:48.449824</td>\n",
       "      <td>0.010317</td>\n",
       "      <td>22.791569</td>\n",
       "    </tr>\n",
       "  </tbody>\n",
       "</table>\n",
       "<p>31590 rows × 7 columns</p>\n",
       "</div>"
      ],
      "text/plain": [
       "             lr  train/loss  train/psnr  epoch                  created_at  \\\n",
       "0      0.000500    0.030904   17.914391      0  2021-11-29 10:47:49.649936   \n",
       "1      0.000500    0.027842   18.483892      0  2021-11-29 10:47:51.646310   \n",
       "2      0.000500    0.026325   18.713966      0  2021-11-29 10:47:53.536505   \n",
       "3      0.000500    0.023690   18.930473      0  2021-11-29 10:47:55.425248   \n",
       "4      0.000500    0.022867   19.377693      0  2021-11-29 10:47:57.314520   \n",
       "...         ...         ...         ...    ...                         ...   \n",
       "31585  0.000125    0.003708   27.671307     29  2021-11-30 04:10:33.935775   \n",
       "31586  0.000125    0.004354   26.824734     29  2021-11-30 04:10:35.975449   \n",
       "31587  0.000125    0.004143   27.248798     29  2021-11-30 04:10:38.163785   \n",
       "31588  0.000125    0.004159   27.058308     29  2021-11-30 04:10:40.318428   \n",
       "31589       NaN         NaN         NaN     29  2021-11-30 04:10:48.449824   \n",
       "\n",
       "       val/loss   val/psnr  \n",
       "0           NaN        NaN  \n",
       "1           NaN        NaN  \n",
       "2           NaN        NaN  \n",
       "3           NaN        NaN  \n",
       "4           NaN        NaN  \n",
       "...         ...        ...  \n",
       "31585       NaN        NaN  \n",
       "31586       NaN        NaN  \n",
       "31587       NaN        NaN  \n",
       "31588       NaN        NaN  \n",
       "31589  0.010317  22.791569  \n",
       "\n",
       "[31590 rows x 7 columns]"
      ]
     },
     "execution_count": 3,
     "metadata": {},
     "output_type": "execute_result"
    }
   ],
   "source": [
    "exp_name = \"deer_v6_debug_script_picked_blurry\"\n",
    "version_number = 0\n",
    "df = pd.read_csv(f\"../logs/{exp_name}/version_{version_number}/metrics.csv\")\n",
    "df"
   ]
  },
  {
   "cell_type": "code",
   "execution_count": 4,
   "metadata": {},
   "outputs": [
    {
     "data": {
      "text/plain": [
       "30"
      ]
     },
     "execution_count": 4,
     "metadata": {},
     "output_type": "execute_result"
    }
   ],
   "source": [
    "NUM_EPOCHS = len(df[\"val/loss\"].dropna().values)\n",
    "NUM_EPOCHS"
   ]
  },
  {
   "cell_type": "code",
   "execution_count": 5,
   "metadata": {},
   "outputs": [
    {
     "data": {
      "text/plain": [
       "30"
      ]
     },
     "execution_count": 5,
     "metadata": {},
     "output_type": "execute_result"
    }
   ],
   "source": [
    "train_losses = df[\"train/loss\"].dropna().values\n",
    "train_losses = train_losses[::len(train_losses) // NUM_EPOCHS]\n",
    "len(train_losses)"
   ]
  },
  {
   "cell_type": "code",
   "execution_count": 6,
   "metadata": {},
   "outputs": [
    {
     "data": {
      "text/plain": [
       "30"
      ]
     },
     "execution_count": 6,
     "metadata": {},
     "output_type": "execute_result"
    }
   ],
   "source": [
    "val_losses = df[\"val/loss\"].dropna().values\n",
    "len(val_losses)"
   ]
  },
  {
   "cell_type": "code",
   "execution_count": 7,
   "metadata": {},
   "outputs": [
    {
     "data": {
      "image/png": "[encoded data removed]",
      "text/plain": [
       "<Figure size 432x288 with 1 Axes>"
      ]
     },
     "metadata": {
      "needs_background": "light"
     },
     "output_type": "display_data"
    }
   ],
   "source": [
    "plt.plot(train_losses, label=\"train\")\n",
    "plt.plot(val_losses, label=\"val\")\n",
    "plt.legend();"
   ]
  },
  {
   "cell_type": "code",
   "execution_count": 8,
   "metadata": {},
   "outputs": [
    {
     "data": {
      "image/png": "[encoded data removed]",
      "text/plain": [
       "<Figure size 432x288 with 1 Axes>"
      ]
     },
     "metadata": {
      "needs_background": "light"
     },
     "output_type": "display_data"
    }
   ],
   "source": [
    "plt.plot(train_losses, label=\"train\")\n",
    "plt.plot(val_losses, label=\"val\")\n",
    "plt.yscale(\"log\")\n",
    "plt.legend();"
   ]
  },
  {
   "cell_type": "code",
   "execution_count": 9,
   "metadata": {},
   "outputs": [
    {
     "data": {
      "text/plain": [
       "30"
      ]
     },
     "execution_count": 9,
     "metadata": {},
     "output_type": "execute_result"
    }
   ],
   "source": [
    "# Use grouping instead\n",
    "train_losses_averaged = df.groupby(\"epoch\").agg({ \"train/loss\": \"mean\" }).values\n",
    "len(train_losses_averaged)"
   ]
  },
  {
   "cell_type": "code",
   "execution_count": 10,
   "metadata": {},
   "outputs": [
    {
     "data": {
      "image/png": "[encoded data removed]",
      "text/plain": [
       "<Figure size 432x288 with 1 Axes>"
      ]
     },
     "metadata": {
      "needs_background": "light"
     },
     "output_type": "display_data"
    }
   ],
   "source": [
    "plt.plot(train_losses_averaged, label=\"train\")\n",
    "plt.plot(val_losses, label=\"val\")\n",
    "plt.legend();"
   ]
  },
  {
   "cell_type": "code",
   "execution_count": 11,
   "metadata": {},
   "outputs": [
    {
     "data": {
      "image/png": "[encoded data removed]",
      "text/plain": [
       "<Figure size 432x288 with 1 Axes>"
      ]
     },
     "metadata": {
      "needs_background": "light"
     },
     "output_type": "display_data"
    }
   ],
   "source": [
    "plt.plot(train_losses_averaged, label=\"train\")\n",
    "plt.plot(val_losses, label=\"val\")\n",
    "plt.yscale(\"log\")\n",
    "plt.legend();"
   ]
  },
  {
   "cell_type": "code",
   "execution_count": 12,
   "metadata": {},
   "outputs": [
    {
     "data": {
      "text/plain": [
       "30"
      ]
     },
     "execution_count": 12,
     "metadata": {},
     "output_type": "execute_result"
    }
   ],
   "source": [
    "train_psnrs = df[\"train/psnr\"].dropna().values\n",
    "train_psnrs = train_psnrs[::len(train_psnrs) // NUM_EPOCHS]\n",
    "len(train_psnrs)"
   ]
  },
  {
   "cell_type": "code",
   "execution_count": 13,
   "metadata": {},
   "outputs": [
    {
     "data": {
      "text/plain": [
       "30"
      ]
     },
     "execution_count": 13,
     "metadata": {},
     "output_type": "execute_result"
    }
   ],
   "source": [
    "val_psnrs = df[\"val/psnr\"].dropna().values\n",
    "len(val_psnrs)"
   ]
  },
  {
   "cell_type": "code",
   "execution_count": 14,
   "metadata": {},
   "outputs": [
    {
     "data": {
      "image/png": "[encoded data removed]",
      "text/plain": [
       "<Figure size 432x288 with 1 Axes>"
      ]
     },
     "metadata": {
      "needs_background": "light"
     },
     "output_type": "display_data"
    }
   ],
   "source": [
    "plt.plot(train_psnrs, label=\"train\")\n",
    "plt.plot(val_psnrs, label=\"val\")\n",
    "plt.legend();"
   ]
  },
  {
   "cell_type": "code",
   "execution_count": 15,
   "metadata": {},
   "outputs": [
    {
     "data": {
      "text/plain": [
       "30"
      ]
     },
     "execution_count": 15,
     "metadata": {},
     "output_type": "execute_result"
    }
   ],
   "source": [
    "# Use grouping instead\n",
    "train_psnrs_averaged = df.groupby(\"epoch\").agg({ \"train/psnr\": \"mean\" }).values\n",
    "len(train_psnrs_averaged)"
   ]
  },
  {
   "cell_type": "code",
   "execution_count": 16,
   "metadata": {},
   "outputs": [
    {
     "data": {
      "image/png": "[encoded data removed]",
      "text/plain": [
       "<Figure size 432x288 with 1 Axes>"
      ]
     },
     "metadata": {
      "needs_background": "light"
     },
     "output_type": "display_data"
    }
   ],
   "source": [
    "plt.plot(train_psnrs_averaged, label=\"train\")\n",
    "plt.plot(val_psnrs, label=\"val\")\n",
    "plt.legend();"
   ]
  },
  {
   "cell_type": "code",
   "execution_count": null,
   "metadata": {},
   "outputs": [],
   "source": []
  }
 ],
 "metadata": {
  "interpreter": {
   "hash": "30bb980a990a251085a08b54e0ae26c6e312af495ec5c889c0335588031946be"
  },
  "kernelspec": {
   "display_name": "Python 3.6.13 64-bit ('nerf_pl': conda)",
   "name": "python3"
  },
  "language_info": {
   "codemirror_mode": {
    "name": "ipython",
    "version": 3
   },
   "file_extension": ".py",
   "mimetype": "text/x-python",
   "name": "python",
   "nbconvert_exporter": "python",
   "pygments_lexer": "ipython3",
   "version": "3.6.13"
  },
  "orig_nbformat": 4
 },
 "nbformat": 4,
 "nbformat_minor": 2
}
